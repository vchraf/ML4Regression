{
 "cells": [
  {
   "cell_type": "code",
   "execution_count": 111,
   "id": "2c842349",
   "metadata": {},
   "outputs": [],
   "source": [
    "import numpy as np\n",
    "import pandas as pd\n",
    "import matplotlib.pyplot as plt\n",
    "import seaborn as sns\n",
    "from sklearn.metrics import mean_squared_error, mean_absolute_error, r2_score\n",
    "from sklearn.model_selection import train_test_split\n",
    "from sklearn.ensemble import RandomForestRegressor\n",
    "from sklearn.linear_model import LinearRegression\n",
    "from sklearn.linear_model import ElasticNet\n",
    "from urllib.parse import urlparse\n",
    "import mlflow\n",
    "import mlflow.sklearn\n",
    "\n",
    "\n",
    "from hyperopt import fmin, tpe, hp, STATUS_OK, Trials\n",
    "from hyperopt.pyll import scope"
   ]
  },
  {
   "cell_type": "code",
   "execution_count": 5,
   "id": "24663b12",
   "metadata": {},
   "outputs": [],
   "source": [
    "from sklearn.preprocessing import StandardScaler"
   ]
  },
  {
   "cell_type": "code",
   "execution_count": 74,
   "id": "92e9eb30",
   "metadata": {},
   "outputs": [],
   "source": [
    "data = pd.read_parquet(\"./data/data\")"
   ]
  },
  {
   "cell_type": "code",
   "execution_count": 20,
   "id": "12896d58",
   "metadata": {
    "scrolled": true
   },
   "outputs": [
    {
     "name": "stderr",
     "output_type": "stream",
     "text": [
      "C:\\Users\\Eloua\\AppData\\Local\\Temp\\ipykernel_8888\\2431446646.py:1: FutureWarning: Indexing with multiple keys (implicitly converted to a tuple of keys) will be deprecated, use a list instead.\n",
      "  txt2loc = data.groupby('locTxt')['lat','lng'].mean()\n"
     ]
    }
   ],
   "source": [
    "txt2loc = data.groupby('locTxt')['lat','lng'].mean()"
   ]
  },
  {
   "cell_type": "code",
   "execution_count": 32,
   "id": "160f2367",
   "metadata": {},
   "outputs": [],
   "source": [
    "txt2loc.to_parquet('./data/txt2loc')"
   ]
  },
  {
   "cell_type": "code",
   "execution_count": 43,
   "id": "f4d3bf5b",
   "metadata": {},
   "outputs": [],
   "source": [
    "data['lng'] = data['locTxt'].apply(lambda x: txt2loc['lng'][txt2loc['locTxt'] == x].item())"
   ]
  },
  {
   "cell_type": "code",
   "execution_count": 53,
   "id": "a1cb8759",
   "metadata": {},
   "outputs": [],
   "source": [
    "data = data.drop(columns=['etatgenerale'])"
   ]
  },
  {
   "cell_type": "code",
   "execution_count": 62,
   "id": "56de7ccb",
   "metadata": {},
   "outputs": [
    {
     "data": {
      "text/plain": [
       "Correct              45761\n",
       "Refait à neuf         2820\n",
       "Travaux à prévoir      901\n",
       "Name: finition, dtype: int64"
      ]
     },
     "execution_count": 62,
     "metadata": {},
     "output_type": "execute_result"
    }
   ],
   "source": [
    "data.finition.value_counts()"
   ]
  },
  {
   "cell_type": "code",
   "execution_count": 63,
   "id": "219444ba",
   "metadata": {},
   "outputs": [],
   "source": [
    "_finition = {'Correct': 2,\n",
    "                      'Refait à neuf': 1,\n",
    "                      'Travaux à prévoir': 0}\n",
    "data['finition'] = data['finition'].map(_finition)\n"
   ]
  },
  {
   "cell_type": "code",
   "execution_count": null,
   "id": "15075830",
   "metadata": {},
   "outputs": [],
   "source": [
    "_anneeconstruction = {'Je ne sais pas': -1,\n",
    "                  'Construction neuve': 0,\n",
    "                  'Moins de 5 ans': 1,\n",
    "                  'Moins de 10 ans': 2,\n",
    "                  'Entre 10 ans et 20 ans': 3,\n",
    "                  'Plus de 20 ans': 4}\n",
    "data['anneeconstruction'] = data['anneeconstruction'].map(_anneeconstruction)"
   ]
  },
  {
   "cell_type": "code",
   "execution_count": 65,
   "id": "ca4289b2",
   "metadata": {
    "scrolled": false
   },
   "outputs": [
    {
     "data": {
      "text/html": [
       "<div>\n",
       "<style scoped>\n",
       "    .dataframe tbody tr th:only-of-type {\n",
       "        vertical-align: middle;\n",
       "    }\n",
       "\n",
       "    .dataframe tbody tr th {\n",
       "        vertical-align: top;\n",
       "    }\n",
       "\n",
       "    .dataframe thead th {\n",
       "        text-align: right;\n",
       "    }\n",
       "</style>\n",
       "<table border=\"1\" class=\"dataframe\">\n",
       "  <thead>\n",
       "    <tr style=\"text-align: right;\">\n",
       "      <th></th>\n",
       "      <th>target</th>\n",
       "      <th>price</th>\n",
       "      <th>lat</th>\n",
       "      <th>lng</th>\n",
       "      <th>anneeconstruction</th>\n",
       "      <th>room</th>\n",
       "      <th>bathroom</th>\n",
       "      <th>surfaceconstruite</th>\n",
       "      <th>finition</th>\n",
       "      <th>piscine</th>\n",
       "      <th>cheminee</th>\n",
       "      <th>vueexceptionnelle</th>\n",
       "      <th>garage</th>\n",
       "      <th>climatisation</th>\n",
       "    </tr>\n",
       "  </thead>\n",
       "  <tbody>\n",
       "    <tr>\n",
       "      <th>0</th>\n",
       "      <td>10230.0</td>\n",
       "      <td>2600000.0</td>\n",
       "      <td>30.413578</td>\n",
       "      <td>-9.567632</td>\n",
       "      <td>-1</td>\n",
       "      <td>3.0</td>\n",
       "      <td>2.0</td>\n",
       "      <td>112.0</td>\n",
       "      <td>2</td>\n",
       "      <td>1</td>\n",
       "      <td>1</td>\n",
       "      <td>1</td>\n",
       "      <td>1</td>\n",
       "      <td>1</td>\n",
       "    </tr>\n",
       "    <tr>\n",
       "      <th>1</th>\n",
       "      <td>10230.0</td>\n",
       "      <td>3500000.0</td>\n",
       "      <td>30.413578</td>\n",
       "      <td>-9.567632</td>\n",
       "      <td>-1</td>\n",
       "      <td>4.0</td>\n",
       "      <td>2.0</td>\n",
       "      <td>299.0</td>\n",
       "      <td>2</td>\n",
       "      <td>1</td>\n",
       "      <td>1</td>\n",
       "      <td>1</td>\n",
       "      <td>1</td>\n",
       "      <td>1</td>\n",
       "    </tr>\n",
       "    <tr>\n",
       "      <th>2</th>\n",
       "      <td>10230.0</td>\n",
       "      <td>2500000.0</td>\n",
       "      <td>30.413578</td>\n",
       "      <td>-9.567632</td>\n",
       "      <td>-1</td>\n",
       "      <td>3.0</td>\n",
       "      <td>2.0</td>\n",
       "      <td>140.0</td>\n",
       "      <td>2</td>\n",
       "      <td>1</td>\n",
       "      <td>1</td>\n",
       "      <td>1</td>\n",
       "      <td>1</td>\n",
       "      <td>1</td>\n",
       "    </tr>\n",
       "    <tr>\n",
       "      <th>3</th>\n",
       "      <td>10230.0</td>\n",
       "      <td>1600000.0</td>\n",
       "      <td>30.413578</td>\n",
       "      <td>-9.567632</td>\n",
       "      <td>-1</td>\n",
       "      <td>5.0</td>\n",
       "      <td>4.0</td>\n",
       "      <td>75.0</td>\n",
       "      <td>1</td>\n",
       "      <td>0</td>\n",
       "      <td>0</td>\n",
       "      <td>0</td>\n",
       "      <td>0</td>\n",
       "      <td>0</td>\n",
       "    </tr>\n",
       "    <tr>\n",
       "      <th>4</th>\n",
       "      <td>10230.0</td>\n",
       "      <td>4500000.0</td>\n",
       "      <td>30.413578</td>\n",
       "      <td>-9.567632</td>\n",
       "      <td>-1</td>\n",
       "      <td>1.0</td>\n",
       "      <td>1.0</td>\n",
       "      <td>750.0</td>\n",
       "      <td>1</td>\n",
       "      <td>1</td>\n",
       "      <td>1</td>\n",
       "      <td>1</td>\n",
       "      <td>1</td>\n",
       "      <td>1</td>\n",
       "    </tr>\n",
       "  </tbody>\n",
       "</table>\n",
       "</div>"
      ],
      "text/plain": [
       "    target      price        lat       lng  anneeconstruction  room  bathroom  \\\n",
       "0  10230.0  2600000.0  30.413578 -9.567632                 -1   3.0       2.0   \n",
       "1  10230.0  3500000.0  30.413578 -9.567632                 -1   4.0       2.0   \n",
       "2  10230.0  2500000.0  30.413578 -9.567632                 -1   3.0       2.0   \n",
       "3  10230.0  1600000.0  30.413578 -9.567632                 -1   5.0       4.0   \n",
       "4  10230.0  4500000.0  30.413578 -9.567632                 -1   1.0       1.0   \n",
       "\n",
       "   surfaceconstruite  finition  piscine  cheminee  vueexceptionnelle  garage  \\\n",
       "0              112.0         2        1         1                  1       1   \n",
       "1              299.0         2        1         1                  1       1   \n",
       "2              140.0         2        1         1                  1       1   \n",
       "3               75.0         1        0         0                  0       0   \n",
       "4              750.0         1        1         1                  1       1   \n",
       "\n",
       "   climatisation  \n",
       "0              1  \n",
       "1              1  \n",
       "2              1  \n",
       "3              0  \n",
       "4              1  "
      ]
     },
     "execution_count": 65,
     "metadata": {},
     "output_type": "execute_result"
    }
   ],
   "source": [
    "data.head()"
   ]
  },
  {
   "cell_type": "code",
   "execution_count": 102,
   "id": "58a6e545",
   "metadata": {},
   "outputs": [],
   "source": [
    "train, test = train_test_split(data)\n",
    "\n",
    "X_train = train.drop([\"price\"], axis=1)\n",
    "X_test = test.drop([\"price\"], axis=1)\n",
    "y_train = train[[\"price\"]]\n",
    "y_test = test[[\"price\"]]\n"
   ]
  },
  {
   "cell_type": "code",
   "execution_count": 104,
   "id": "d2fc09ea",
   "metadata": {},
   "outputs": [
    {
     "data": {
      "text/html": [
       "<style>#sk-container-id-5 {color: black;background-color: white;}#sk-container-id-5 pre{padding: 0;}#sk-container-id-5 div.sk-toggleable {background-color: white;}#sk-container-id-5 label.sk-toggleable__label {cursor: pointer;display: block;width: 100%;margin-bottom: 0;padding: 0.3em;box-sizing: border-box;text-align: center;}#sk-container-id-5 label.sk-toggleable__label-arrow:before {content: \"▸\";float: left;margin-right: 0.25em;color: #696969;}#sk-container-id-5 label.sk-toggleable__label-arrow:hover:before {color: black;}#sk-container-id-5 div.sk-estimator:hover label.sk-toggleable__label-arrow:before {color: black;}#sk-container-id-5 div.sk-toggleable__content {max-height: 0;max-width: 0;overflow: hidden;text-align: left;background-color: #f0f8ff;}#sk-container-id-5 div.sk-toggleable__content pre {margin: 0.2em;color: black;border-radius: 0.25em;background-color: #f0f8ff;}#sk-container-id-5 input.sk-toggleable__control:checked~div.sk-toggleable__content {max-height: 200px;max-width: 100%;overflow: auto;}#sk-container-id-5 input.sk-toggleable__control:checked~label.sk-toggleable__label-arrow:before {content: \"▾\";}#sk-container-id-5 div.sk-estimator input.sk-toggleable__control:checked~label.sk-toggleable__label {background-color: #d4ebff;}#sk-container-id-5 div.sk-label input.sk-toggleable__control:checked~label.sk-toggleable__label {background-color: #d4ebff;}#sk-container-id-5 input.sk-hidden--visually {border: 0;clip: rect(1px 1px 1px 1px);clip: rect(1px, 1px, 1px, 1px);height: 1px;margin: -1px;overflow: hidden;padding: 0;position: absolute;width: 1px;}#sk-container-id-5 div.sk-estimator {font-family: monospace;background-color: #f0f8ff;border: 1px dotted black;border-radius: 0.25em;box-sizing: border-box;margin-bottom: 0.5em;}#sk-container-id-5 div.sk-estimator:hover {background-color: #d4ebff;}#sk-container-id-5 div.sk-parallel-item::after {content: \"\";width: 100%;border-bottom: 1px solid gray;flex-grow: 1;}#sk-container-id-5 div.sk-label:hover label.sk-toggleable__label {background-color: #d4ebff;}#sk-container-id-5 div.sk-serial::before {content: \"\";position: absolute;border-left: 1px solid gray;box-sizing: border-box;top: 0;bottom: 0;left: 50%;z-index: 0;}#sk-container-id-5 div.sk-serial {display: flex;flex-direction: column;align-items: center;background-color: white;padding-right: 0.2em;padding-left: 0.2em;position: relative;}#sk-container-id-5 div.sk-item {position: relative;z-index: 1;}#sk-container-id-5 div.sk-parallel {display: flex;align-items: stretch;justify-content: center;background-color: white;position: relative;}#sk-container-id-5 div.sk-item::before, #sk-container-id-5 div.sk-parallel-item::before {content: \"\";position: absolute;border-left: 1px solid gray;box-sizing: border-box;top: 0;bottom: 0;left: 50%;z-index: -1;}#sk-container-id-5 div.sk-parallel-item {display: flex;flex-direction: column;z-index: 1;position: relative;background-color: white;}#sk-container-id-5 div.sk-parallel-item:first-child::after {align-self: flex-end;width: 50%;}#sk-container-id-5 div.sk-parallel-item:last-child::after {align-self: flex-start;width: 50%;}#sk-container-id-5 div.sk-parallel-item:only-child::after {width: 0;}#sk-container-id-5 div.sk-dashed-wrapped {border: 1px dashed gray;margin: 0 0.4em 0.5em 0.4em;box-sizing: border-box;padding-bottom: 0.4em;background-color: white;}#sk-container-id-5 div.sk-label label {font-family: monospace;font-weight: bold;display: inline-block;line-height: 1.2em;}#sk-container-id-5 div.sk-label-container {text-align: center;}#sk-container-id-5 div.sk-container {/* jupyter's `normalize.less` sets `[hidden] { display: none; }` but bootstrap.min.css set `[hidden] { display: none !important; }` so we also need the `!important` here to be able to override the default hidden behavior on the sphinx rendered scikit-learn.org. See: https://github.com/scikit-learn/scikit-learn/issues/21755 */display: inline-block !important;position: relative;}#sk-container-id-5 div.sk-text-repr-fallback {display: none;}</style><div id=\"sk-container-id-5\" class=\"sk-top-container\"><div class=\"sk-text-repr-fallback\"><pre>LinearRegression()</pre><b>In a Jupyter environment, please rerun this cell to show the HTML representation or trust the notebook. <br />On GitHub, the HTML representation is unable to render, please try loading this page with nbviewer.org.</b></div><div class=\"sk-container\" hidden><div class=\"sk-item\"><div class=\"sk-estimator sk-toggleable\"><input class=\"sk-toggleable__control sk-hidden--visually\" id=\"sk-estimator-id-5\" type=\"checkbox\" checked><label for=\"sk-estimator-id-5\" class=\"sk-toggleable__label sk-toggleable__label-arrow\">LinearRegression</label><div class=\"sk-toggleable__content\"><pre>LinearRegression()</pre></div></div></div></div></div>"
      ],
      "text/plain": [
       "LinearRegression()"
      ]
     },
     "execution_count": 104,
     "metadata": {},
     "output_type": "execute_result"
    }
   ],
   "source": [
    "regr = LinearRegression()\n",
    "regr.fit(X_train, y_train)"
   ]
  },
  {
   "cell_type": "code",
   "execution_count": 105,
   "id": "28be2300",
   "metadata": {},
   "outputs": [],
   "source": [
    "def eval_metrics(actual, pred):\n",
    "    rmse = np.sqrt(mean_squared_error(actual, pred))\n",
    "    mae = mean_absolute_error(actual, pred)\n",
    "    r2 = r2_score(actual, pred)\n",
    "    return rmse, mae, r2"
   ]
  },
  {
   "cell_type": "code",
   "execution_count": 106,
   "id": "eb4bb29b",
   "metadata": {},
   "outputs": [
    {
     "name": "stdout",
     "output_type": "stream",
     "text": [
      "  RMSE: 35127449.12596715\n",
      "  MAE: 7327641.5435678\n",
      "  R2: 0.009002323449947669\n"
     ]
    }
   ],
   "source": [
    "predicted_qualities = regr.predict(X_test)\n",
    "\n",
    "(rmse, mae, r2) = eval_metrics(y_test, predicted_qualities)\n",
    "\n",
    "print(\"  RMSE: %s\" % rmse)\n",
    "print(\"  MAE: %s\" % mae)\n",
    "print(\"  R2: %s\" % r2)"
   ]
  },
  {
   "cell_type": "code",
   "execution_count": 108,
   "id": "9cedb5c4",
   "metadata": {},
   "outputs": [
    {
     "name": "stderr",
     "output_type": "stream",
     "text": [
      "C:\\Users\\Eloua\\AppData\\Local\\Temp\\ipykernel_8888\\1989065491.py:2: UserWarning: \n",
      "\n",
      "`distplot` is a deprecated function and will be removed in seaborn v0.14.0.\n",
      "\n",
      "Please adapt your code to use either `displot` (a figure-level function with\n",
      "similar flexibility) or `histplot` (an axes-level function for histograms).\n",
      "\n",
      "For a guide to updating your code to use the new functions, please see\n",
      "https://gist.github.com/mwaskom/de44147ed2974457ad6372750bbe5751\n",
      "\n",
      "  sns.distplot(y_test, label='actual')\n"
     ]
    },
    {
     "data": {
      "text/plain": [
       "<matplotlib.legend.Legend at 0x18ae3a82d90>"
      ]
     },
     "execution_count": 108,
     "metadata": {},
     "output_type": "execute_result"
    },
    {
     "data": {
      "image/png": "[encoded data removed]",
      "text/plain": [
       "<Figure size 640x480 with 1 Axes>"
      ]
     },
     "metadata": {},
     "output_type": "display_data"
    }
   ],
   "source": [
    "# sns.distplot(predicted_qualities, label='prediction')\n",
    "sns.distplot(y_test, label='actual')\n",
    "\n",
    "plt.legend()"
   ]
  },
  {
   "cell_type": "code",
   "execution_count": 97,
   "id": "b3a202cd",
   "metadata": {},
   "outputs": [],
   "source": [
    "import mlflow\n",
    "\n",
    "\n",
    "mlflow.set_tracking_uri(\"http://127.0.0.1:5000\")"
   ]
  },
  {
   "cell_type": "code",
   "execution_count": 98,
   "id": "67e14a70",
   "metadata": {},
   "outputs": [
    {
     "name": "stdout",
     "output_type": "stream",
     "text": [
      "tracking URI: 'http://127.0.0.1:5000'\n"
     ]
    }
   ],
   "source": [
    "print(f\"tracking URI: '{mlflow.get_tracking_uri()}'\")"
   ]
  },
  {
   "cell_type": "code",
   "execution_count": 100,
   "id": "5a354967",
   "metadata": {},
   "outputs": [
    {
     "name": "stderr",
     "output_type": "stream",
     "text": [
      "2022/09/18 18:25:19 INFO mlflow.tracking.fluent: Experiment with name 'ML4Regression' does not exist. Creating a new experiment.\n"
     ]
    },
    {
     "data": {
      "text/plain": [
       "<Experiment: artifact_location='./artifacts/1', experiment_id='1', lifecycle_stage='active', name='ML4Regression', tags={}>"
      ]
     },
     "execution_count": 100,
     "metadata": {},
     "output_type": "execute_result"
    }
   ],
   "source": [
    "mlflow.set_experiment(\"ML4Regression\")"
   ]
  },
  {
   "cell_type": "code",
   "execution_count": 101,
   "id": "9a8f0734",
   "metadata": {},
   "outputs": [
    {
     "data": {
      "text/plain": [
       "[<Experiment: artifact_location='./artifacts/0', experiment_id='0', lifecycle_stage='active', name='Default', tags={}>,\n",
       " <Experiment: artifact_location='./artifacts/1', experiment_id='1', lifecycle_stage='active', name='ML4Regression', tags={}>]"
      ]
     },
     "execution_count": 101,
     "metadata": {},
     "output_type": "execute_result"
    }
   ],
   "source": [
    "mlflow.list_experiments()"
   ]
  },
  {
   "cell_type": "code",
   "execution_count": 112,
   "id": "fde2a67f",
   "metadata": {},
   "outputs": [],
   "source": [
    "def objective(params):\n",
    "    with mlflow.start_run():\n",
    "        mlflow.set_tag(\"modele\", \"RandomForestRegressor\")\n",
    "        mlflow.set_tag(\"status\", \"hyperparameter-tuning\")\n",
    "        mlflow.log_params(params)\n",
    "        rf = RandomForestRegressor(**params)\n",
    "        rf.fit(X_train, y_train)\n",
    "        predicted_qualities = rf.predict(X_test)\n",
    "        (rmse, mae, r2) = eval_metrics(y_test, predicted_qualities)\n",
    "        mlflow.log_metric(\"rmse\", rmse)\n",
    "        mlflow.log_metric(\"r2\", r2)\n",
    "        mlflow.log_metric(\"mae\", mae)\n",
    "    return {'loss': r2, 'status': STATUS_OK}"
   ]
  },
  {
   "cell_type": "code",
   "execution_count": 122,
   "id": "75695be8",
   "metadata": {},
   "outputs": [
    {
     "name": "stdout",
     "output_type": "stream",
     "text": [
      "\r",
      "  0%|                                                                                   | 0/10 [00:00<?, ?trial/s, best loss=?]"
     ]
    },
    {
     "name": "stderr",
     "output_type": "stream",
     "text": [
      "C:\\Users\\Eloua\\AppData\\Local\\Temp\\ipykernel_8888\\3026683882.py:7: DataConversionWarning: A column-vector y was passed when a 1d array was expected. Please change the shape of y to (n_samples,), for example using ravel().\n",
      "  rf.fit(X_train, y_train)\n",
      "\n",
      "w:\\prodlab\\.venv\\lib\\site-packages\\sklearn\\ensemble\\_forest.py:416: FutureWarning: `max_features='auto'` has been deprecated in 1.1 and will be removed in 1.3. To keep the past behaviour, explicitly set `max_features=1.0` or remove this parameter as it is also the default value for RandomForestRegressors and ExtraTreesRegressors.\n",
      "  warn(\n",
      "\n"
     ]
    },
    {
     "name": "stdout",
     "output_type": "stream",
     "text": [
      "\r",
      " 10%|█████▎                                               | 1/10 [00:00<00:05,  1.78trial/s, best loss: -7.067064919707988e-06]"
     ]
    },
    {
     "name": "stderr",
     "output_type": "stream",
     "text": [
      "C:\\Users\\Eloua\\AppData\\Local\\Temp\\ipykernel_8888\\3026683882.py:7: DataConversionWarning: A column-vector y was passed when a 1d array was expected. Please change the shape of y to (n_samples,), for example using ravel().\n",
      "  rf.fit(X_train, y_train)\n",
      "\n",
      "w:\\prodlab\\.venv\\lib\\site-packages\\sklearn\\ensemble\\_forest.py:416: FutureWarning: `max_features='auto'` has been deprecated in 1.1 and will be removed in 1.3. To keep the past behaviour, explicitly set `max_features=1.0` or remove this parameter as it is also the default value for RandomForestRegressors and ExtraTreesRegressors.\n",
      "  warn(\n",
      "\n"
     ]
    },
    {
     "name": "stdout",
     "output_type": "stream",
     "text": [
      "\r",
      " 20%|██████████▌                                          | 2/10 [00:01<00:04,  1.74trial/s, best loss: -7.815063554295065e-06]"
     ]
    },
    {
     "name": "stderr",
     "output_type": "stream",
     "text": [
      "C:\\Users\\Eloua\\AppData\\Local\\Temp\\ipykernel_8888\\3026683882.py:7: DataConversionWarning: A column-vector y was passed when a 1d array was expected. Please change the shape of y to (n_samples,), for example using ravel().\n",
      "  rf.fit(X_train, y_train)\n",
      "\n",
      "w:\\prodlab\\.venv\\lib\\site-packages\\sklearn\\ensemble\\_forest.py:416: FutureWarning: `max_features='auto'` has been deprecated in 1.1 and will be removed in 1.3. To keep the past behaviour, explicitly set `max_features=1.0` or remove this parameter as it is also the default value for RandomForestRegressors and ExtraTreesRegressors.\n",
      "  warn(\n",
      "\n"
     ]
    },
    {
     "name": "stdout",
     "output_type": "stream",
     "text": [
      "\r",
      " 30%|███████████████▉                                     | 3/10 [00:01<00:04,  1.67trial/s, best loss: -7.815063554295065e-06]"
     ]
    },
    {
     "name": "stderr",
     "output_type": "stream",
     "text": [
      "C:\\Users\\Eloua\\AppData\\Local\\Temp\\ipykernel_8888\\3026683882.py:7: DataConversionWarning: A column-vector y was passed when a 1d array was expected. Please change the shape of y to (n_samples,), for example using ravel().\n",
      "  rf.fit(X_train, y_train)\n",
      "\n",
      "w:\\prodlab\\.venv\\lib\\site-packages\\sklearn\\ensemble\\_forest.py:416: FutureWarning: `max_features='auto'` has been deprecated in 1.1 and will be removed in 1.3. To keep the past behaviour, explicitly set `max_features=1.0` or remove this parameter as it is also the default value for RandomForestRegressors and ExtraTreesRegressors.\n",
      "  warn(\n",
      "\n"
     ]
    },
    {
     "name": "stdout",
     "output_type": "stream",
     "text": [
      "\r",
      " 40%|█████████████████████▏                               | 4/10 [00:02<00:03,  1.58trial/s, best loss: -7.815063554295065e-06]"
     ]
    },
    {
     "name": "stderr",
     "output_type": "stream",
     "text": [
      "C:\\Users\\Eloua\\AppData\\Local\\Temp\\ipykernel_8888\\3026683882.py:7: DataConversionWarning: A column-vector y was passed when a 1d array was expected. Please change the shape of y to (n_samples,), for example using ravel().\n",
      "  rf.fit(X_train, y_train)\n",
      "\n",
      "w:\\prodlab\\.venv\\lib\\site-packages\\sklearn\\ensemble\\_forest.py:416: FutureWarning: `max_features='auto'` has been deprecated in 1.1 and will be removed in 1.3. To keep the past behaviour, explicitly set `max_features=1.0` or remove this parameter as it is also the default value for RandomForestRegressors and ExtraTreesRegressors.\n",
      "  warn(\n",
      "\n"
     ]
    },
    {
     "name": "stdout",
     "output_type": "stream",
     "text": [
      "\r",
      " 50%|██████████████████████████▌                          | 5/10 [00:03<00:03,  1.61trial/s, best loss: -7.815063554295065e-06]"
     ]
    },
    {
     "name": "stderr",
     "output_type": "stream",
     "text": [
      "C:\\Users\\Eloua\\AppData\\Local\\Temp\\ipykernel_8888\\3026683882.py:7: DataConversionWarning: A column-vector y was passed when a 1d array was expected. Please change the shape of y to (n_samples,), for example using ravel().\n",
      "  rf.fit(X_train, y_train)\n",
      "\n",
      "w:\\prodlab\\.venv\\lib\\site-packages\\sklearn\\ensemble\\_forest.py:416: FutureWarning: `max_features='auto'` has been deprecated in 1.1 and will be removed in 1.3. To keep the past behaviour, explicitly set `max_features=1.0` or remove this parameter as it is also the default value for RandomForestRegressors and ExtraTreesRegressors.\n",
      "  warn(\n",
      "\n"
     ]
    },
    {
     "name": "stdout",
     "output_type": "stream",
     "text": [
      "\r",
      " 60%|███████████████████████████████▊                     | 6/10 [00:03<00:02,  1.56trial/s, best loss: -8.850339513477579e-06]"
     ]
    },
    {
     "name": "stderr",
     "output_type": "stream",
     "text": [
      "C:\\Users\\Eloua\\AppData\\Local\\Temp\\ipykernel_8888\\3026683882.py:7: DataConversionWarning: A column-vector y was passed when a 1d array was expected. Please change the shape of y to (n_samples,), for example using ravel().\n",
      "  rf.fit(X_train, y_train)\n",
      "\n",
      "w:\\prodlab\\.venv\\lib\\site-packages\\sklearn\\ensemble\\_forest.py:416: FutureWarning: `max_features='auto'` has been deprecated in 1.1 and will be removed in 1.3. To keep the past behaviour, explicitly set `max_features=1.0` or remove this parameter as it is also the default value for RandomForestRegressors and ExtraTreesRegressors.\n",
      "  warn(\n",
      "\n"
     ]
    },
    {
     "name": "stdout",
     "output_type": "stream",
     "text": [
      "\r",
      " 70%|█████████████████████████████████████                | 7/10 [00:04<00:02,  1.27trial/s, best loss: -8.850339513477579e-06]"
     ]
    },
    {
     "name": "stderr",
     "output_type": "stream",
     "text": [
      "C:\\Users\\Eloua\\AppData\\Local\\Temp\\ipykernel_8888\\3026683882.py:7: DataConversionWarning: A column-vector y was passed when a 1d array was expected. Please change the shape of y to (n_samples,), for example using ravel().\n",
      "  rf.fit(X_train, y_train)\n",
      "\n",
      "w:\\prodlab\\.venv\\lib\\site-packages\\sklearn\\ensemble\\_forest.py:416: FutureWarning: `max_features='auto'` has been deprecated in 1.1 and will be removed in 1.3. To keep the past behaviour, explicitly set `max_features=1.0` or remove this parameter as it is also the default value for RandomForestRegressors and ExtraTreesRegressors.\n",
      "  warn(\n",
      "\n"
     ]
    },
    {
     "name": "stdout",
     "output_type": "stream",
     "text": [
      "\r",
      " 80%|██████████████████████████████████████████▍          | 8/10 [00:05<00:01,  1.22trial/s, best loss: -8.850339513477579e-06]"
     ]
    },
    {
     "name": "stderr",
     "output_type": "stream",
     "text": [
      "C:\\Users\\Eloua\\AppData\\Local\\Temp\\ipykernel_8888\\3026683882.py:7: DataConversionWarning: A column-vector y was passed when a 1d array was expected. Please change the shape of y to (n_samples,), for example using ravel().\n",
      "  rf.fit(X_train, y_train)\n",
      "\n",
      "w:\\prodlab\\.venv\\lib\\site-packages\\sklearn\\ensemble\\_forest.py:416: FutureWarning: `max_features='auto'` has been deprecated in 1.1 and will be removed in 1.3. To keep the past behaviour, explicitly set `max_features=1.0` or remove this parameter as it is also the default value for RandomForestRegressors and ExtraTreesRegressors.\n",
      "  warn(\n",
      "\n"
     ]
    },
    {
     "name": "stdout",
     "output_type": "stream",
     "text": [
      "\r",
      " 90%|███████████████████████████████████████████████▋     | 9/10 [00:06<00:00,  1.05trial/s, best loss: -9.004462174777572e-06]"
     ]
    },
    {
     "name": "stderr",
     "output_type": "stream",
     "text": [
      "C:\\Users\\Eloua\\AppData\\Local\\Temp\\ipykernel_8888\\3026683882.py:7: DataConversionWarning: A column-vector y was passed when a 1d array was expected. Please change the shape of y to (n_samples,), for example using ravel().\n",
      "  rf.fit(X_train, y_train)\n",
      "\n",
      "w:\\prodlab\\.venv\\lib\\site-packages\\sklearn\\ensemble\\_forest.py:416: FutureWarning: `max_features='auto'` has been deprecated in 1.1 and will be removed in 1.3. To keep the past behaviour, explicitly set `max_features=1.0` or remove this parameter as it is also the default value for RandomForestRegressors and ExtraTreesRegressors.\n",
      "  warn(\n",
      "\n"
     ]
    },
    {
     "name": "stdout",
     "output_type": "stream",
     "text": [
      "100%|████████████████████████████████████████████████████| 10/10 [00:08<00:00,  1.24trial/s, best loss: -9.004462174777572e-06]\n"
     ]
    }
   ],
   "source": [
    "search_space = {'bootstrap': False,\n",
    " 'max_depth': scope.int(hp.quniform('max_depth', 30, 60, 5)),\n",
    " 'max_features':'auto',\n",
    " 'min_samples_leaf': hp.uniform('min_samples_leaf', 1, 10),}\n",
    "# search_space = {'bootstrap': True,\n",
    "#  'max_depth': scope.int(hp.quniform('max_depth', 35, 55, 5)),\n",
    "#  'max_features': hp.choice('max_features', ['log2','auto', 'sqrt']),\n",
    "#  'min_samples_leaf': hp.uniform('min_samples_leaf', 1, 3.5),\n",
    "#  'min_samples_split': scope.int(hp.quniform('min_samples_split', 7, 10, 1)),\n",
    "#  'n_estimators': scope.int(hp.quniform('n_estimators', 200, 2500, 100))}\n",
    "\n",
    "best_result = fmin(\n",
    "    fn=objective,\n",
    "    space=search_space,\n",
    "    algo=tpe.suggest,\n",
    "    max_evals=10,\n",
    "    trials=Trials()\n",
    ")"
   ]
  },
  {
   "cell_type": "code",
   "execution_count": null,
   "id": "c553548e",
   "metadata": {},
   "outputs": [],
   "source": [
    "{'bootstrap': hp.choice('bootstrap', [True, False],),\n",
    " 'max_depth': scope.int(hp.quniform('max_depth', 10, 100, 10))\n",
    " 'max_features': hp.choice('max_features', ['auto', 'sqrt']),\n",
    " 'min_samples_leaf': scope.int(hp.quniform('max_depth', 1, 10, 1)),\n",
    " 'min_samples_split': scope.int(hp.quniform('max_depth', 1, 10, 1)),\n",
    " 'n_estimators': scope.int(hp.quniform('max_depth', 200, 2500, 100))}"
   ]
  },
  {
   "cell_type": "code",
   "execution_count": null,
   "id": "2e94dc49",
   "metadata": {},
   "outputs": [],
   "source": [
    "space_paras = {'model_type': hp.choice('model_type', ['features_and_hours', 'features_only', 'hours_only', 'no_features_no_hours']),\n",
    "                    'output_units': hp.uniform('output_units', 1, 10),\n",
    "                    'kernel_reg': hp.choice('kernel_reg', ['l1', 'l2', 'l1_l2']),\n",
    "                    'kernel_reg_value': hp.uniform('kernel_reg_value', 0.0, 0.5),\n",
    "                    'activity_reg': hp.choice('activity_reg', ['l1', 'l2', 'l1_l2']),\n",
    "                    'activity_reg_value': hp.uniform('activity_reg_value', 0.0, 0.5),\n",
    "                     'optimizer': hp.choice('optimizer', ['adadelta', 'adam', 'rmsprop']),\n",
    "                     'attention': hp.choice('attention', ['before', 'after', 'none'])} \n",
    "   return space_paras"
   ]
  },
  {
   "cell_type": "code",
   "execution_count": null,
   "id": "f0b1cc13",
   "metadata": {},
   "outputs": [],
   "source": []
  },
  {
   "cell_type": "code",
   "execution_count": null,
   "id": "6727ebc3",
   "metadata": {},
   "outputs": [],
   "source": []
  },
  {
   "cell_type": "code",
   "execution_count": null,
   "id": "2bd23d80",
   "metadata": {},
   "outputs": [],
   "source": []
  },
  {
   "cell_type": "code",
   "execution_count": 7,
   "id": "4185c956",
   "metadata": {},
   "outputs": [],
   "source": [
    "c_col = data.select_dtypes(include=['object']).columns\n",
    "# n_col = data.select_dtypes(include=['int64', 'float64']).columns"
   ]
  },
  {
   "cell_type": "code",
   "execution_count": null,
   "id": "cbaf4279",
   "metadata": {},
   "outputs": [],
   "source": [
    "from sklearn.impute import SimpleImputer\n",
    "from sklearn.preprocessing import StandardScaler\n",
    "\n",
    "imputer = SimpleImputer(strategy=\"median\")\n",
    "scaler = StandardScaler()\n",
    "\n",
    "numericalData = imputer.fit_transform(numericalData) # Handling Missing Data\n",
    "numericalData = pd.DataFrame(scaler.fit_transform(numericalData), columns=num_columns) # Data Normalization \n",
    "numericalData"
   ]
  },
  {
   "cell_type": "code",
   "execution_count": null,
   "id": "b7224cb4",
   "metadata": {},
   "outputs": [],
   "source": [
    "from sklearn.preprocessing import OrdinalEncoder\n",
    "from sklearn.preprocessing import StandardScaler\n",
    "\n",
    "ordinal_encoder = OrdinalEncoder()\n",
    "scaler = StandardScaler()\n",
    "\n",
    "categoricalData = ordinal_encoder.fit_transform(categoricalData) # convert categorical features (discrete) to ordinal integers  \n",
    "categoricalData = imputer.fit_transform(categoricalData) # Handling Missing Data\n",
    "categoricalData = pd.DataFrame(scaler.fit_transform(categoricalData), columns=cat_columns) # Data Normalization\n",
    "categoricalData"
   ]
  },
  {
   "cell_type": "code",
   "execution_count": null,
   "id": "e759d822",
   "metadata": {},
   "outputs": [],
   "source": []
  },
  {
   "cell_type": "code",
   "execution_count": null,
   "id": "97f410e4",
   "metadata": {},
   "outputs": [],
   "source": []
  },
  {
   "cell_type": "code",
   "execution_count": null,
   "id": "628d2965",
   "metadata": {},
   "outputs": [],
   "source": []
  },
  {
   "cell_type": "code",
   "execution_count": null,
   "id": "96d4c670",
   "metadata": {},
   "outputs": [],
   "source": []
  },
  {
   "cell_type": "code",
   "execution_count": null,
   "id": "a02ddf8e",
   "metadata": {},
   "outputs": [],
   "source": []
  },
  {
   "cell_type": "code",
   "execution_count": null,
   "id": "4b312575",
   "metadata": {},
   "outputs": [],
   "source": []
  },
  {
   "cell_type": "code",
   "execution_count": null,
   "id": "e2466dc0",
   "metadata": {},
   "outputs": [],
   "source": []
  }
 ],
 "metadata": {
  "kernelspec": {
   "display_name": "Python 3 (ipykernel)",
   "language": "python",
   "name": "python3"
  },
  "language_info": {
   "codemirror_mode": {
    "name": "ipython",
    "version": 3
   },
   "file_extension": ".py",
   "mimetype": "text/x-python",
   "name": "python",
   "nbconvert_exporter": "python",
   "pygments_lexer": "ipython3",
   "version": "3.8.0"
  }
 },
 "nbformat": 4,
 "nbformat_minor": 5
}
