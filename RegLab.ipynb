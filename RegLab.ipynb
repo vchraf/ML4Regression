{
 "cells": [
  {
   "cell_type": "code",
   "execution_count": 1,
   "id": "2a642590",
   "metadata": {},
   "outputs": [],
   "source": [
    "import numpy as np\n",
    "import pandas as pd\n",
    "import matplotlib.pyplot as plt\n",
    "import seaborn as sns"
   ]
  },
  {
   "cell_type": "code",
   "execution_count": 5,
   "id": "162cdd1e",
   "metadata": {},
   "outputs": [],
   "source": [
    "from sklearn.preprocessing import StandardScaler"
   ]
  },
  {
   "cell_type": "code",
   "execution_count": 3,
   "id": "2a15b1da",
   "metadata": {},
   "outputs": [],
   "source": [
    "data = pd.read_parquet(\"./data/data\")"
   ]
  },
  {
   "cell_type": "code",
   "execution_count": 20,
   "id": "c868fcd6",
   "metadata": {
    "scrolled": true
   },
   "outputs": [
    {
     "name": "stderr",
     "output_type": "stream",
     "text": [
      "C:\\Users\\Eloua\\AppData\\Local\\Temp\\ipykernel_8888\\2431446646.py:1: FutureWarning: Indexing with multiple keys (implicitly converted to a tuple of keys) will be deprecated, use a list instead.\n",
      "  txt2loc = data.groupby('locTxt')['lat','lng'].mean()\n"
     ]
    }
   ],
   "source": [
    "txt2loc = data.groupby('locTxt')['lat','lng'].mean()"
   ]
  },
  {
   "cell_type": "code",
   "execution_count": 32,
   "id": "189e26b3",
   "metadata": {},
   "outputs": [],
   "source": [
    "txt2loc.to_parquet('./data/txt2loc')"
   ]
  },
  {
   "cell_type": "code",
   "execution_count": 43,
   "id": "8e99ef88",
   "metadata": {},
   "outputs": [],
   "source": [
    "data['lng'] = data['locTxt'].apply(lambda x: txt2loc['lng'][txt2loc['locTxt'] == x].item())"
   ]
  },
  {
   "cell_type": "code",
   "execution_count": null,
   "id": "930ee5de",
   "metadata": {},
   "outputs": [],
   "source": [
    "data"
   ]
  },
  {
   "cell_type": "code",
   "execution_count": 7,
   "id": "0a188985",
   "metadata": {},
   "outputs": [],
   "source": [
    "c_col = data.select_dtypes(include=['object']).columns\n",
    "# n_col = data.select_dtypes(include=['int64', 'float64']).columns"
   ]
  },
  {
   "cell_type": "code",
   "execution_count": 53,
   "id": "080bfce9",
   "metadata": {},
   "outputs": [],
   "source": [
    "data = data.drop(columns=['etatgenerale'])"
   ]
  },
  {
   "cell_type": "code",
   "execution_count": 62,
   "id": "51f974fa",
   "metadata": {},
   "outputs": [
    {
     "data": {
      "text/plain": [
       "Correct              45761\n",
       "Refait à neuf         2820\n",
       "Travaux à prévoir      901\n",
       "Name: finition, dtype: int64"
      ]
     },
     "execution_count": 62,
     "metadata": {},
     "output_type": "execute_result"
    }
   ],
   "source": [
    "data.finition.value_counts()"
   ]
  },
  {
   "cell_type": "code",
   "execution_count": 63,
   "id": "4eca0488",
   "metadata": {},
   "outputs": [],
   "source": [
    "_finition = {'Correct': 2,\n",
    "                      'Refait à neuf': 1,\n",
    "                      'Travaux à prévoir': 0}\n",
    "data['finition'] = data['finition'].map(_finition)\n"
   ]
  },
  {
   "cell_type": "code",
   "execution_count": null,
   "id": "b8e277f9",
   "metadata": {},
   "outputs": [],
   "source": [
    "_anneeconstruction = {'Je ne sais pas': -1,\n",
    "                  'Construction neuve': 0,\n",
    "                  'Moins de 5 ans': 1,\n",
    "                  'Moins de 10 ans': 2,\n",
    "                  'Entre 10 ans et 20 ans': 3,\n",
    "                  'Plus de 20 ans': 4}\n",
    "data['anneeconstruction'] = data['anneeconstruction'].map(_anneeconstruction)\n"
   ]
  },
  {
   "cell_type": "code",
   "execution_count": 64,
   "id": "231f7faa",
   "metadata": {
    "scrolled": true
   },
   "outputs": [
    {
     "data": {
      "text/html": [
       "<div>\n",
       "<style scoped>\n",
       "    .dataframe tbody tr th:only-of-type {\n",
       "        vertical-align: middle;\n",
       "    }\n",
       "\n",
       "    .dataframe tbody tr th {\n",
       "        vertical-align: top;\n",
       "    }\n",
       "\n",
       "    .dataframe thead th {\n",
       "        text-align: right;\n",
       "    }\n",
       "</style>\n",
       "<table border=\"1\" class=\"dataframe\">\n",
       "  <thead>\n",
       "    <tr style=\"text-align: right;\">\n",
       "      <th></th>\n",
       "      <th>target</th>\n",
       "      <th>price</th>\n",
       "      <th>lat</th>\n",
       "      <th>lng</th>\n",
       "      <th>anneeconstruction</th>\n",
       "      <th>room</th>\n",
       "      <th>bathroom</th>\n",
       "      <th>surfaceconstruite</th>\n",
       "      <th>finition</th>\n",
       "      <th>piscine</th>\n",
       "      <th>cheminee</th>\n",
       "      <th>vueexceptionnelle</th>\n",
       "      <th>garage</th>\n",
       "      <th>climatisation</th>\n",
       "    </tr>\n",
       "  </thead>\n",
       "  <tbody>\n",
       "    <tr>\n",
       "      <th>0</th>\n",
       "      <td>10230.0</td>\n",
       "      <td>2600000.0</td>\n",
       "      <td>30.413578</td>\n",
       "      <td>-9.567632</td>\n",
       "      <td>-1</td>\n",
       "      <td>3.0</td>\n",
       "      <td>2.0</td>\n",
       "      <td>112.0</td>\n",
       "      <td>2</td>\n",
       "      <td>1</td>\n",
       "      <td>1</td>\n",
       "      <td>1</td>\n",
       "      <td>1</td>\n",
       "      <td>1</td>\n",
       "    </tr>\n",
       "    <tr>\n",
       "      <th>1</th>\n",
       "      <td>10230.0</td>\n",
       "      <td>3500000.0</td>\n",
       "      <td>30.413578</td>\n",
       "      <td>-9.567632</td>\n",
       "      <td>-1</td>\n",
       "      <td>4.0</td>\n",
       "      <td>2.0</td>\n",
       "      <td>299.0</td>\n",
       "      <td>2</td>\n",
       "      <td>1</td>\n",
       "      <td>1</td>\n",
       "      <td>1</td>\n",
       "      <td>1</td>\n",
       "      <td>1</td>\n",
       "    </tr>\n",
       "    <tr>\n",
       "      <th>2</th>\n",
       "      <td>10230.0</td>\n",
       "      <td>2500000.0</td>\n",
       "      <td>30.413578</td>\n",
       "      <td>-9.567632</td>\n",
       "      <td>-1</td>\n",
       "      <td>3.0</td>\n",
       "      <td>2.0</td>\n",
       "      <td>140.0</td>\n",
       "      <td>2</td>\n",
       "      <td>1</td>\n",
       "      <td>1</td>\n",
       "      <td>1</td>\n",
       "      <td>1</td>\n",
       "      <td>1</td>\n",
       "    </tr>\n",
       "    <tr>\n",
       "      <th>3</th>\n",
       "      <td>10230.0</td>\n",
       "      <td>1600000.0</td>\n",
       "      <td>30.413578</td>\n",
       "      <td>-9.567632</td>\n",
       "      <td>-1</td>\n",
       "      <td>5.0</td>\n",
       "      <td>4.0</td>\n",
       "      <td>75.0</td>\n",
       "      <td>1</td>\n",
       "      <td>0</td>\n",
       "      <td>0</td>\n",
       "      <td>0</td>\n",
       "      <td>0</td>\n",
       "      <td>0</td>\n",
       "    </tr>\n",
       "    <tr>\n",
       "      <th>4</th>\n",
       "      <td>10230.0</td>\n",
       "      <td>4500000.0</td>\n",
       "      <td>30.413578</td>\n",
       "      <td>-9.567632</td>\n",
       "      <td>-1</td>\n",
       "      <td>1.0</td>\n",
       "      <td>1.0</td>\n",
       "      <td>750.0</td>\n",
       "      <td>1</td>\n",
       "      <td>1</td>\n",
       "      <td>1</td>\n",
       "      <td>1</td>\n",
       "      <td>1</td>\n",
       "      <td>1</td>\n",
       "    </tr>\n",
       "  </tbody>\n",
       "</table>\n",
       "</div>"
      ],
      "text/plain": [
       "    target      price        lat       lng  anneeconstruction  room  bathroom  \\\n",
       "0  10230.0  2600000.0  30.413578 -9.567632                 -1   3.0       2.0   \n",
       "1  10230.0  3500000.0  30.413578 -9.567632                 -1   4.0       2.0   \n",
       "2  10230.0  2500000.0  30.413578 -9.567632                 -1   3.0       2.0   \n",
       "3  10230.0  1600000.0  30.413578 -9.567632                 -1   5.0       4.0   \n",
       "4  10230.0  4500000.0  30.413578 -9.567632                 -1   1.0       1.0   \n",
       "\n",
       "   surfaceconstruite  finition  piscine  cheminee  vueexceptionnelle  garage  \\\n",
       "0              112.0         2        1         1                  1       1   \n",
       "1              299.0         2        1         1                  1       1   \n",
       "2              140.0         2        1         1                  1       1   \n",
       "3               75.0         1        0         0                  0       0   \n",
       "4              750.0         1        1         1                  1       1   \n",
       "\n",
       "   climatisation  \n",
       "0              1  \n",
       "1              1  \n",
       "2              1  \n",
       "3              0  \n",
       "4              1  "
      ]
     },
     "execution_count": 64,
     "metadata": {},
     "output_type": "execute_result"
    }
   ],
   "source": [
    "data.head()"
   ]
  },
  {
   "cell_type": "code",
   "execution_count": null,
   "id": "c9395136",
   "metadata": {},
   "outputs": [],
   "source": []
  },
  {
   "cell_type": "code",
   "execution_count": null,
   "id": "e3e4e365",
   "metadata": {},
   "outputs": [],
   "source": [
    "from sklearn.impute import SimpleImputer\n",
    "from sklearn.preprocessing import StandardScaler\n",
    "\n",
    "imputer = SimpleImputer(strategy=\"median\")\n",
    "scaler = StandardScaler()\n",
    "\n",
    "numericalData = imputer.fit_transform(numericalData) # Handling Missing Data\n",
    "numericalData = pd.DataFrame(scaler.fit_transform(numericalData), columns=num_columns) # Data Normalization \n",
    "numericalData"
   ]
  },
  {
   "cell_type": "code",
   "execution_count": null,
   "id": "5a0a09c0",
   "metadata": {},
   "outputs": [],
   "source": [
    "from sklearn.preprocessing import OrdinalEncoder\n",
    "from sklearn.preprocessing import StandardScaler\n",
    "\n",
    "ordinal_encoder = OrdinalEncoder()\n",
    "scaler = StandardScaler()\n",
    "\n",
    "categoricalData = ordinal_encoder.fit_transform(categoricalData) # convert categorical features (discrete) to ordinal integers  \n",
    "categoricalData = imputer.fit_transform(categoricalData) # Handling Missing Data\n",
    "categoricalData = pd.DataFrame(scaler.fit_transform(categoricalData), columns=cat_columns) # Data Normalization\n",
    "categoricalData"
   ]
  },
  {
   "cell_type": "code",
   "execution_count": null,
   "id": "513a3bd0",
   "metadata": {},
   "outputs": [],
   "source": []
  },
  {
   "cell_type": "code",
   "execution_count": null,
   "id": "988e99fe",
   "metadata": {},
   "outputs": [],
   "source": []
  },
  {
   "cell_type": "code",
   "execution_count": null,
   "id": "ce0b15f3",
   "metadata": {},
   "outputs": [],
   "source": []
  },
  {
   "cell_type": "code",
   "execution_count": null,
   "id": "8b9e3c11",
   "metadata": {},
   "outputs": [],
   "source": []
  },
  {
   "cell_type": "code",
   "execution_count": null,
   "id": "afda19f7",
   "metadata": {},
   "outputs": [],
   "source": []
  },
  {
   "cell_type": "code",
   "execution_count": null,
   "id": "8f12df9d",
   "metadata": {},
   "outputs": [],
   "source": []
  },
  {
   "cell_type": "code",
   "execution_count": null,
   "id": "a0a8c351",
   "metadata": {},
   "outputs": [],
   "source": []
  }
 ],
 "metadata": {
  "kernelspec": {
   "display_name": "Python 3 (ipykernel)",
   "language": "python",
   "name": "python3"
  },
  "language_info": {
   "codemirror_mode": {
    "name": "ipython",
    "version": 3
   },
   "file_extension": ".py",
   "mimetype": "text/x-python",
   "name": "python",
   "nbconvert_exporter": "python",
   "pygments_lexer": "ipython3",
   "version": "3.8.0"
  }
 },
 "nbformat": 4,
 "nbformat_minor": 5
}
